{
 "cells": [
  {
   "cell_type": "code",
   "execution_count": 30,
   "id": "c7ca0cb5",
   "metadata": {},
   "outputs": [],
   "source": [
    "from math import sin, radians"
   ]
  },
  {
   "cell_type": "code",
   "execution_count": 31,
   "id": "40b353d4",
   "metadata": {},
   "outputs": [],
   "source": [
    "c = 299792458\n",
    "d = (1/600)*(10**(-3))\n",
    "theta = radians(10)"
   ]
  },
  {
   "cell_type": "code",
   "execution_count": 32,
   "id": "3c7d27c4",
   "metadata": {},
   "outputs": [
    {
     "name": "stdout",
     "output_type": "stream",
     "text": [
      "1.035862e+15\n"
     ]
    }
   ],
   "source": [
    "v = c / (d*sin(theta))\n",
    "print(f'{v:e}')"
   ]
  },
  {
   "cell_type": "code",
   "execution_count": 33,
   "id": "d7b7bfef",
   "metadata": {},
   "outputs": [],
   "source": [
    "angulos = {\n",
    "    'Azul 1' : [12, 0.65],\n",
    "    'Azul 2' : [14, 0.52],\n",
    "    'Azul 3' : [16, 0.51],\n",
    "    'Verde' : [20, 0.32],\n",
    "    'Laranja' : [21, 0.20],\n",
    "}\n",
    "\n",
    "frequencias = {}"
   ]
  },
  {
   "cell_type": "code",
   "execution_count": 34,
   "id": "a6e45025",
   "metadata": {},
   "outputs": [
    {
     "name": "stdout",
     "output_type": "stream",
     "text": [
      "Azul 1 & $8.651532\\cdot 10^{14}$ & 0.65 \\\\\n",
      "Azul 2 & $7.435271\\cdot 10^{14}$ & 0.52 \\\\\n",
      "Azul 3 & $6.525802\\cdot 10^{14}$ & 0.51 \\\\\n",
      "Verde & $5.259207\\cdot 10^{14}$ & 0.32 \\\\\n",
      "Laranja & $5.019296\\cdot 10^{14}$ & 0.20 \\\\\n"
     ]
    },
    {
     "name": "stderr",
     "output_type": "stream",
     "text": [
      "<>:5: SyntaxWarning: invalid escape sequence '\\c'\n",
      "<>:5: SyntaxWarning: invalid escape sequence '\\c'\n",
      "C:\\Users\\anton\\AppData\\Local\\Temp\\ipykernel_12504\\3643541307.py:5: SyntaxWarning: invalid escape sequence '\\c'\n",
      "  r = r.replace('e+14', '\\cdot 10^{14}')\n"
     ]
    }
   ],
   "source": [
    "for t in angulos.keys():\n",
    "    r = c / (d*sin(radians(angulos[t][0])))\n",
    "    frequencias[t] = [r, angulos[t][1]]\n",
    "    r = f'${r:.6e}$'\n",
    "    r = r.replace('e+14', '\\cdot 10^{14}')\n",
    "    print(f\"{t} & {r} & {angulos[t][1]:.2f} \\\\\\\\\")\n",
    "    "
   ]
  },
  {
   "cell_type": "code",
   "execution_count": 35,
   "id": "66cf7ecf",
   "metadata": {},
   "outputs": [
    {
     "data": {
      "text/plain": [
       "{'Azul 1': [865153248922717.2, 0.65],\n",
       " 'Azul 2': [743527055929066.8, 0.52],\n",
       " 'Azul 3': [652580178281142.4, 0.51],\n",
       " 'Verde': [525920704701664.5, 0.32],\n",
       " 'Laranja': [501929581114123.75, 0.2]}"
      ]
     },
     "execution_count": 35,
     "metadata": {},
     "output_type": "execute_result"
    }
   ],
   "source": [
    "frequencias"
   ]
  },
  {
   "cell_type": "code",
   "execution_count": 36,
   "id": "7d610057",
   "metadata": {},
   "outputs": [],
   "source": [
    "import sympy as sp"
   ]
  },
  {
   "cell_type": "code",
   "execution_count": 37,
   "id": "7bd44162",
   "metadata": {},
   "outputs": [],
   "source": [
    "h, V0, elet, Phi, nu = sp.symbols('h V_0 e^- Phi nu')"
   ]
  },
  {
   "cell_type": "code",
   "execution_count": 38,
   "id": "be838325",
   "metadata": {},
   "outputs": [],
   "source": [
    "eq = sp.Eq(Phi, h*nu - elet*V0)"
   ]
  },
  {
   "cell_type": "code",
   "execution_count": 39,
   "id": "d5ef669c",
   "metadata": {},
   "outputs": [
    {
     "data": {
      "text/latex": [
       "$\\displaystyle \\Phi = - V_{0} e^{-} + h \\nu$"
      ],
      "text/plain": [
       "Eq(Phi, -V_0*e^- + h*nu)"
      ]
     },
     "execution_count": 39,
     "metadata": {},
     "output_type": "execute_result"
    }
   ],
   "source": [
    "eq "
   ]
  },
  {
   "cell_type": "code",
   "execution_count": 40,
   "id": "3a6612fe",
   "metadata": {},
   "outputs": [],
   "source": [
    "eq = sp.Eq(V0, (h*nu-Phi)/elet)"
   ]
  },
  {
   "cell_type": "code",
   "execution_count": 41,
   "id": "21986ef1",
   "metadata": {},
   "outputs": [
    {
     "data": {
      "text/latex": [
       "$\\displaystyle V_{0} = \\frac{- \\Phi + h \\nu}{e^{-}}$"
      ],
      "text/plain": [
       "Eq(V_0, (-Phi + h*nu)/e^-)"
      ]
     },
     "execution_count": 41,
     "metadata": {},
     "output_type": "execute_result"
    }
   ],
   "source": [
    "eq"
   ]
  }
 ],
 "metadata": {
  "kernelspec": {
   "display_name": "Python 3",
   "language": "python",
   "name": "python3"
  },
  "language_info": {
   "codemirror_mode": {
    "name": "ipython",
    "version": 3
   },
   "file_extension": ".py",
   "mimetype": "text/x-python",
   "name": "python",
   "nbconvert_exporter": "python",
   "pygments_lexer": "ipython3",
   "version": "3.12.4"
  }
 },
 "nbformat": 4,
 "nbformat_minor": 5
}
