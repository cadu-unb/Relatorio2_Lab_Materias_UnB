{
 "cells": [
  {
   "cell_type": "code",
   "execution_count": 68,
   "id": "c7ca0cb5",
   "metadata": {},
   "outputs": [],
   "source": [
    "from math import sin, radians"
   ]
  },
  {
   "cell_type": "code",
   "execution_count": 69,
   "id": "40b353d4",
   "metadata": {},
   "outputs": [],
   "source": [
    "c = 299792458\n",
    "d = (1/600)*(10**(-3))\n",
    "theta = radians(10)"
   ]
  },
  {
   "cell_type": "code",
   "execution_count": 70,
   "id": "3c7d27c4",
   "metadata": {},
   "outputs": [
    {
     "name": "stdout",
     "output_type": "stream",
     "text": [
      "1.035862e+15\n"
     ]
    }
   ],
   "source": [
    "v = c / (d*sin(theta))\n",
    "print(f'{v:e}')"
   ]
  },
  {
   "cell_type": "code",
   "execution_count": 71,
   "id": "d7b7bfef",
   "metadata": {},
   "outputs": [],
   "source": [
    "angulos = {\n",
    "    'Azul 1' : [12, 0.65],\n",
    "    'Azul 2' : [14, 0.52],\n",
    "    'Azul 3' : [16, 0.51],\n",
    "    'Verde' : [20, 0.32],\n",
    "    'Laranja' : [21, 0.20],\n",
    "}\n",
    "\n",
    "frequencias = {}"
   ]
  },
  {
   "cell_type": "code",
   "execution_count": 72,
   "id": "a6e45025",
   "metadata": {},
   "outputs": [
    {
     "name": "stdout",
     "output_type": "stream",
     "text": [
      "Azul 1 & $8.651532\\cdot 10^{14}$ & 0.65 \\\\\n",
      "Azul 2 & $7.435271\\cdot 10^{14}$ & 0.52 \\\\\n",
      "Azul 3 & $6.525802\\cdot 10^{14}$ & 0.51 \\\\\n",
      "Verde & $5.259207\\cdot 10^{14}$ & 0.32 \\\\\n",
      "Laranja & $5.019296\\cdot 10^{14}$ & 0.20 \\\\\n"
     ]
    }
   ],
   "source": [
    "for t in angulos.keys():\n",
    "    r = c / (d*sin(radians(angulos[t][0])))\n",
    "    frequencias[t] = [r, angulos[t][1]]\n",
    "    r = f'${r:.6e}$'\n",
    "    r = r.replace('e+14', '\\cdot 10^{14}')\n",
    "    print(f\"{t} & {r} & {angulos[t][1]:.2f} \\\\\\\\\")\n",
    "    "
   ]
  },
  {
   "cell_type": "code",
   "execution_count": 73,
   "id": "66cf7ecf",
   "metadata": {},
   "outputs": [
    {
     "data": {
      "text/plain": [
       "{'Azul 1': [865153248922717.2, 0.65],\n",
       " 'Azul 2': [743527055929066.8, 0.52],\n",
       " 'Azul 3': [652580178281142.4, 0.51],\n",
       " 'Verde': [525920704701664.5, 0.32],\n",
       " 'Laranja': [501929581114123.75, 0.2]}"
      ]
     },
     "execution_count": 73,
     "metadata": {},
     "output_type": "execute_result"
    }
   ],
   "source": [
    "frequencias"
   ]
  },
  {
   "cell_type": "code",
   "execution_count": 74,
   "id": "0d116530",
   "metadata": {},
   "outputs": [
    {
     "name": "stdout",
     "output_type": "stream",
     "text": [
      "--- Valores de h (Constante de Planck) Calculados ---\n",
      "Azul 1 & 1.75310097e-34 \\\\\n",
      "Azul 2 & 1.76012559e-34 \\\\\n",
      "Azul 3 & 1.98090754e-34 \\\\\n",
      "Verde & 1.87994309e-34 \\\\\n",
      "Laranja & 1.58727644e-34 \\\\\n"
     ]
    }
   ],
   "source": [
    "import sympy as sp\n",
    "\n",
    "# Dados do problema (não alterados)\n",
    "frequencias = {\n",
    "    'Azul 1':  [865153248922717.2, 0.65], \n",
    "    'Azul 2':  [743527055929066.8, 0.52], \n",
    "    'Azul 3':  [652580178281142.4, 0.51], \n",
    "    'Verde':   [525920704701664.5, 0.32], \n",
    "    'Laranja': [501929581114123.75, 0.2]\n",
    "}\n",
    "\n",
    "# 1. Definir os Símbolos (usamos 'e' para a carga elementar para simplificar)\n",
    "# O símbolo e^- no seu código é inválido; mudamos para 'e'\n",
    "h, V0, e, Phi, nu = sp.symbols('h V_0 e Phi nu')\n",
    "\n",
    "# 2. Definir a Equação\n",
    "# h = (Phi + e * V0) / nu  (Fórmula de Planck para o efeito fotoelétrico)\n",
    "eq = sp.Eq(h, (Phi + e * V0) / nu) \n",
    "\n",
    "# 3. Definir as Constantes Numéricas\n",
    "# Usamos sp.Number ou sp.sympify para garantir que as constantes sejam tratadas com precisão SymPy\n",
    "e_valor = sp.Number('1.6e-19')      # Carga elementar (em Coulombs)\n",
    "Phi_valor = sp.Number('4.76700997e-20') # Função trabalho (em Joules)\n",
    "\n",
    "# Dicionário para armazenar os resultados calculados para h\n",
    "valores_h_calculado = {}\n",
    "\n",
    "# 4. Iterar sobre as frequências e calcular 'h'\n",
    "for nome_cor, dados in frequencias.items():\n",
    "    nu_valor = dados[0] # Frequência (nu)\n",
    "    V0_valor = dados[1] # Potencial de corte (V0)\n",
    "    \n",
    "    # 4.1. Criar o Dicionário de Substituições\n",
    "    substituicoes = {\n",
    "        V0: V0_valor, \n",
    "        e: e_valor, \n",
    "        Phi: Phi_valor, \n",
    "        nu: nu_valor\n",
    "    }\n",
    "    \n",
    "    # 4.2. Aplicar as Substituições e resolver para 'h'\n",
    "    # .rhs -> retorna o lado direito da equação (a expressão para h)\n",
    "    # .subs() -> retorna a nova expressão com as substituições\n",
    "    # .evalf() -> avalia a expressão numericamente (transforma em float)\n",
    "    h_calculado = eq.rhs.subs(substituicoes).evalf()\n",
    "    \n",
    "    # 4.3. Armazenar o resultado\n",
    "    valores_h_calculado[nome_cor] = h_calculado\n",
    "\n",
    "# 5. Exibir os Resultados\n",
    "print(\"--- Valores de h (Constante de Planck) Calculados ---\")\n",
    "for cor, valor_h in valores_h_calculado.items():\n",
    "    # Formatando a saída em notação científica para melhor leitura\n",
    "    print(f\"{cor} & {valor_h:.8e} \\\\\\\\\")"
   ]
  }
 ],
 "metadata": {
  "kernelspec": {
   "display_name": "Python 3",
   "language": "python",
   "name": "python3"
  },
  "language_info": {
   "codemirror_mode": {
    "name": "ipython",
    "version": 3
   },
   "file_extension": ".py",
   "mimetype": "text/x-python",
   "name": "python",
   "nbconvert_exporter": "python",
   "pygments_lexer": "ipython3",
   "version": "3.11.5"
  }
 },
 "nbformat": 4,
 "nbformat_minor": 5
}
