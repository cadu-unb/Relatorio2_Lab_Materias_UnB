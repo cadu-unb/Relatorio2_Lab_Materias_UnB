{
 "cells": [
  {
   "cell_type": "code",
   "execution_count": 79,
   "id": "c7ca0cb5",
   "metadata": {},
   "outputs": [],
   "source": [
    "from math import sin, radians"
   ]
  },
  {
   "cell_type": "code",
   "execution_count": 80,
   "id": "40b353d4",
   "metadata": {},
   "outputs": [],
   "source": [
    "c = 299792458\n",
    "d = (1/600)*(10**(-3))\n",
    "theta = radians(10)"
   ]
  },
  {
   "cell_type": "code",
   "execution_count": 81,
   "id": "3c7d27c4",
   "metadata": {},
   "outputs": [
    {
     "name": "stdout",
     "output_type": "stream",
     "text": [
      "1.035862e+15\n"
     ]
    }
   ],
   "source": [
    "v = c / (d*sin(theta))\n",
    "print(f'{v:e}')"
   ]
  },
  {
   "cell_type": "code",
   "execution_count": null,
   "id": "d7b7bfef",
   "metadata": {},
   "outputs": [],
   "source": [
    "angulos = {\n",
    "    'Azul 1' : [12, 0.65],\n",
    "    'Azul 2' : [14, 0.52],\n",
    "    'Azul 3' : [16, 0.51],\n",
    "    'Verde' : [20, 0.32],\n",
    "    'Laranja' : [21, 0.20],\n",
    "}\n",
    "\n",
    "frequencias = {}"
   ]
  },
  {
   "cell_type": "code",
   "execution_count": 83,
   "id": "a6e45025",
   "metadata": {},
   "outputs": [
    {
     "name": "stdout",
     "output_type": "stream",
     "text": [
      "Azul 1 & $8.651532\\cdot 10^{14}$ & 0.65 \\\\\n",
      "Azul 2 & $7.435271\\cdot 10^{14}$ & 0.52 \\\\\n",
      "Azul 3 & $6.525802\\cdot 10^{14}$ & 0.51 \\\\\n",
      "Verde & $5.259207\\cdot 10^{14}$ & 0.32 \\\\\n",
      "Laranja & $5.019296\\cdot 10^{14}$ & 0.20 \\\\\n"
     ]
    }
   ],
   "source": [
    "for t in angulos.keys():\n",
    "    r = c / (d*sin(radians(angulos[t][0])))\n",
    "    r = f'${r:.6e}$'\n",
    "    r = r.replace('e+14', '\\cdot 10^{14}')\n",
    "    print(f\"{t} & {r} & {angulos[t][1]:.2f} \\\\\\\\\")\n",
    "    frequencias[t] = r"
   ]
  },
  {
   "cell_type": "code",
   "execution_count": 84,
   "id": "66cf7ecf",
   "metadata": {},
   "outputs": [
    {
     "data": {
      "text/plain": [
       "{'Azul 1': '$8.651532\\\\cdot 10^{14}$',\n",
       " 'Azul 2': '$7.435271\\\\cdot 10^{14}$',\n",
       " 'Azul 3': '$6.525802\\\\cdot 10^{14}$',\n",
       " 'Verde': '$5.259207\\\\cdot 10^{14}$',\n",
       " 'Laranja': '$5.019296\\\\cdot 10^{14}$'}"
      ]
     },
     "execution_count": 84,
     "metadata": {},
     "output_type": "execute_result"
    }
   ],
   "source": [
    "frequencias"
   ]
  }
 ],
 "metadata": {
  "kernelspec": {
   "display_name": "Python 3",
   "language": "python",
   "name": "python3"
  },
  "language_info": {
   "codemirror_mode": {
    "name": "ipython",
    "version": 3
   },
   "file_extension": ".py",
   "mimetype": "text/x-python",
   "name": "python",
   "nbconvert_exporter": "python",
   "pygments_lexer": "ipython3",
   "version": "3.11.5"
  }
 },
 "nbformat": 4,
 "nbformat_minor": 5
}
